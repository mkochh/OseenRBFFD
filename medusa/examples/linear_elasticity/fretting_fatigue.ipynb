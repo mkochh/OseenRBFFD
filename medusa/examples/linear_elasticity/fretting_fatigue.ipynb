{
 "cells": [
  {
   "cell_type": "markdown",
   "metadata": {},
   "source": [
    "Plots results of fretting fatigue case from [this paper](https://onlinelibrary.wiley.com/doi/full/10.1002/nme.6067).\n",
    "\n",
    "Institute Jozef Stefan 2022"
   ]
  },
  {
   "cell_type": "markdown",
   "metadata": {},
   "source": [
    "# Import libs"
   ]
  },
  {
   "cell_type": "code",
   "execution_count": 30,
   "metadata": {},
   "outputs": [],
   "source": [
    "import h5py as h5\n",
    "import matplotlib.pyplot as plt\n",
    "import matplotlib\n",
    "import numpy as np\n",
    "from mpl_toolkits.axes_grid1 import make_axes_locatable\n"
   ]
  },
  {
   "cell_type": "code",
   "execution_count": 31,
   "metadata": {},
   "outputs": [],
   "source": [
    "# To run interactive plot.\n",
    "from matplotlib import interactive\n",
    "interactive(True)\n",
    "%matplotlib qt\n"
   ]
  },
  {
   "cell_type": "markdown",
   "metadata": {},
   "source": [
    "# Plot results"
   ]
  },
  {
   "cell_type": "code",
   "execution_count": 32,
   "metadata": {},
   "outputs": [],
   "source": [
    "def get_vms(sxx, syy, sxy, nu):\n",
    "    szz = nu * (sxx+syy)\n",
    "    return np.sqrt(np.power(sxx, 2)+3*np.power(sxy, 2)+np.power(syy, 2)+(-1)*syy*szz+np.power(szz, 2)+(-1)*sxx*(syy+szz))\n"
   ]
  },
  {
   "cell_type": "code",
   "execution_count": 34,
   "metadata": {},
   "outputs": [],
   "source": [
    "# Import data.\n",
    "data = h5.File('results_fatigue.h5', 'r')\n",
    "\n",
    "pos = np.array(data['domain/pos'][:]) * 1000\n",
    "disp = data['displacements'][:] * 1000\n",
    "disp_magnitude = [np.sqrt(x*x + y*y) for x, y in zip(disp[0], disp[1])]\n",
    "stress = data['stress'][:]\n",
    "sxx = stress[0]\n",
    "syy = stress[1]\n",
    "sxy = stress[2]\n",
    "vms = get_vms(sxx, syy, sxy, 0.33) * 1e-6\n",
    "\n",
    "# Create figure.\n",
    "fig, axs = plt.subplots(2, 1, figsize=(10, 5))\n",
    "\n",
    "# Displacement field.\n",
    "ax = axs[0]\n",
    "coeff = 100\n",
    "p = ax.scatter(pos[0] + coeff * disp[0], pos[1] +\n",
    "               coeff * disp[1], c=disp_magnitude, s=10)\n",
    "divider = make_axes_locatable(ax)\n",
    "cax = divider.append_axes('right', size='5%', pad=0.05)\n",
    "fig.colorbar(p, cax=cax, orientation='vertical',\n",
    "             ticks=np.linspace(min(disp_magnitude), max(disp_magnitude), 5))\n",
    "ax.grid('both')\n",
    "ax.set_aspect('equal')\n",
    "ax.set_title(\"displacement field\")\n",
    "ax.set_xlabel(r'$x$')\n",
    "ax.set_ylabel(r'$y$')\n",
    "\n",
    "# Stress field.\n",
    "ax = axs[1]\n",
    "p = ax.scatter(pos[0], pos[1], c=vms, s=10)\n",
    "divider = make_axes_locatable(ax)\n",
    "cax = divider.append_axes('right', size='5%', pad=0.05)\n",
    "fig.colorbar(p, cax=cax, orientation='vertical',\n",
    "             ticks=np.linspace(min(vms), max(vms), 5), label=\"MPa\")\n",
    "ax.grid('both')\n",
    "ax.set_aspect('equal')\n",
    "ax.set_title('von Mises stress')\n",
    "ax.set_xlabel(r'$x$')\n",
    "ax.set_ylabel(r'$y$')\n",
    "\n",
    "fig.tight_layout()\n",
    "\n",
    "data.close()\n"
   ]
  }
 ],
 "metadata": {
  "kernelspec": {
   "display_name": "Python 3.10.4 64-bit",
   "language": "python",
   "name": "python3"
  },
  "language_info": {
   "codemirror_mode": {
    "name": "ipython",
    "version": 3
   },
   "file_extension": ".py",
   "mimetype": "text/x-python",
   "name": "python",
   "nbconvert_exporter": "python",
   "pygments_lexer": "ipython3",
   "version": "3.10.4"
  },
  "orig_nbformat": 4,
  "vscode": {
   "interpreter": {
    "hash": "a7cfd75649a64abd22cb72ccb68942cc3bf654e9b738fe9c878ed9d9d591c59b"
   }
  }
 },
 "nbformat": 4,
 "nbformat_minor": 2
}
